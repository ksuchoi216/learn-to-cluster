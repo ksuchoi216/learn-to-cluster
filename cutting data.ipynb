{
 "metadata": {
  "language_info": {
   "codemirror_mode": {
    "name": "ipython",
    "version": 3
   },
   "file_extension": ".py",
   "mimetype": "text/x-python",
   "name": "python",
   "nbconvert_exporter": "python",
   "pygments_lexer": "ipython3",
   "version": "3.6.10"
  },
  "orig_nbformat": 2,
  "kernelspec": {
   "name": "python3610jvsc74a57bd078b2cf860a06b7613ff2466361d59adf11b7774a625c16f38194864255a37dd7",
   "display_name": "Python 3.6.10 64-bit ('anaconda3': virtualenv)"
  }
 },
 "nbformat": 4,
 "nbformat_minor": 2,
 "cells": [
  {
   "source": [
    "# basic setting"
   ],
   "cell_type": "markdown",
   "metadata": {}
  },
  {
   "cell_type": "code",
   "execution_count": 64,
   "metadata": {},
   "outputs": [],
   "source": [
    "import numpy as np\n",
    "import torch\n",
    "from utils import (read_meta, read_probs, l2norm, knns2ordered_nbrs,\n",
    "                   intdict2ndarray, Timer)\n",
    "from mmcv import Config \n",
    "# from lgcn.models import build_model\n",
    "# from lgcn import build_handler"
   ]
  },
  {
   "cell_type": "code",
   "execution_count": 65,
   "metadata": {},
   "outputs": [],
   "source": [
    "config='lgcn/configs/cfg_train_lgcn_ms1m.py'\n",
    "cfg = Config.fromfile(config)"
   ]
  },
  {
   "cell_type": "code",
   "execution_count": 66,
   "metadata": {},
   "outputs": [
    {
     "output_type": "stream",
     "name": "stdout",
     "text": [
      "{'feat_path': './data/features/part0_train.bin', 'label_path': './data/labels/part0_train.meta', 'knn_graph_path': './data/knns/part0_train/faiss_k_80.npz', 'k_at_hop': [200, 10], 'active_connection': 10, 'is_norm_feat': True, 'is_sort_knns': True}\n"
     ]
    }
   ],
   "source": [
    "print(cfg.train_data)"
   ]
  },
  {
   "source": [
    "# Data class setting"
   ],
   "cell_type": "markdown",
   "metadata": {}
  },
  {
   "cell_type": "code",
   "execution_count": 67,
   "metadata": {},
   "outputs": [],
   "source": [
    "class datacutting():\n",
    "    def __init__(self, cfg):\n",
    "        cut_start=0\n",
    "        cut_end=500\n",
    "\n",
    "        feat_path = cfg['feat_path']\n",
    "        label_path = cfg.get('label_path', None)\n",
    "        knn_graph_path = cfg['knn_graph_path']\n",
    "\n",
    "        self.k_at_hop = cfg['k_at_hop']\n",
    "        self.depth = len(self.k_at_hop)\n",
    "        self.active_connection = cfg['active_connection']\n",
    "        self.feature_dim = 256\n",
    "        self.is_norm_feat = cfg.get('is_norm_feat', True)\n",
    "        self.is_sort_knns = cfg.get('is_sort_knns', True)\n",
    "        self.is_test = cfg.get('is_test', False)\n",
    "\n",
    "        if label_path is not None:\n",
    "            _, idx2lb = read_meta(label_path)\n",
    "            self.inst_num = len(idx2lb)\n",
    "            self.labels = intdict2ndarray(idx2lb)\n",
    "            self.ignore_label = False\n",
    "        else:\n",
    "            self.labels = None\n",
    "            self.inst_num = -1\n",
    "            self.ignore_label = True\n",
    "\n",
    "        #feature\n",
    "        self.features = read_probs(feat_path, self.inst_num,\n",
    "                                self.feature_dim)[:cut_end,:]\n",
    "        self.inst_num = self.features.shape[0]\n",
    "\n",
    "        #knn\n",
    "        knns = np.load(knn_graph_path)['data'][:cut_end,:,:]\n",
    "        _, knns = knns2ordered_nbrs(knns, sort=self.is_sort_knns)\n",
    "        self.knn_graph=self.knn_graph[:cut_end]\n",
    "\n",
    "\n",
    "\n",
    "        #labels\n",
    "        self.labels=self.labels[:cut_end]\n",
    "\n",
    "        #result\n",
    "        print('inst_num: {},knn_graph shape: {}, feature shape: {}, norm_feat: {}, sort_knns: {} '\n",
    "             'k_at_hop: {}, active_connection: {}'.format(self.inst_num, self.knn_graph.shape, self.features.shape, self.is_norm_feat, self.is_sort_knns,\n",
    "                  self.k_at_hop, self.active_connection))"
   ]
  },
  {
   "cell_type": "code",
   "execution_count": 68,
   "metadata": {},
   "outputs": [
    {
     "output_type": "stream",
     "name": "stdout",
     "text": [
      "[./data/labels/part0_train.meta] #cls: 8573, #inst: 576494\n",
      "inst_num: 500,knn_graph shape: (500, 2, 80), feature shape: (500, 256), norm_feat: True, sort_knns: True k_at_hop: [200, 10], active_connection: 10\n"
     ]
    }
   ],
   "source": [
    "data=datacutting(cfg.train_data)"
   ]
  },
  {
   "source": [
    "# read data in this.jpynb"
   ],
   "cell_type": "markdown",
   "metadata": {}
  },
  {
   "cell_type": "code",
   "execution_count": 69,
   "metadata": {},
   "outputs": [],
   "source": [
    "#feature, label, and knn\n",
    "features=data.features\n",
    "inst_num=data.inst_num\n",
    "knn_graph=data.knn_graph\n",
    "labels=data.labels"
   ]
  },
  {
   "source": [
    "# Save cut datasets as new files"
   ],
   "cell_type": "markdown",
   "metadata": {}
  },
  {
   "cell_type": "code",
   "execution_count": 70,
   "metadata": {},
   "outputs": [],
   "source": [
    "#write feature data\n",
    "feat_path='data_t/features/part0_train_t.bin'\n",
    "label_path='data_t/labels/part0_train_t.meta'\n",
    "knn_graph_path='data_t/knns/part0_train/faiss_k_80_t.npz'\n",
    "\n",
    "features = np.concatenate(features, axis=0)\n",
    "features.tofile(feat_path)"
   ]
  },
  {
   "cell_type": "code",
   "execution_count": 71,
   "metadata": {},
   "outputs": [],
   "source": [
    "#write label data\n",
    "def write_meta(label_path, labels):\n",
    "    inst_num=labels.shape[0]\n",
    "\n",
    "    print(inst_num)\n",
    "\n",
    "    lb2dict={}\n",
    "\n",
    "    with open(label_path, 'w') as of:\n",
    "        for idx in range(inst_num):\n",
    "            label=int(labels[idx])\n",
    "            of.write(str(label)+'\\n')"
   ]
  },
  {
   "cell_type": "code",
   "execution_count": 72,
   "metadata": {},
   "outputs": [
    {
     "output_type": "stream",
     "name": "stdout",
     "text": [
      "500\n"
     ]
    }
   ],
   "source": [
    "write_meta(label_path, labels)"
   ]
  },
  {
   "cell_type": "code",
   "execution_count": 73,
   "metadata": {},
   "outputs": [],
   "source": [
    "#write knn\n",
    "np.savez_compressed(knn_graph_path,data=knn_graph)"
   ]
  },
  {
   "source": [
    "# read outputfile\n"
   ],
   "cell_type": "markdown",
   "metadata": {}
  },
  {
   "cell_type": "code",
   "execution_count": 74,
   "metadata": {},
   "outputs": [],
   "source": [
    "#check feature data output file\n",
    "class dataread():\n",
    "    def __init__(self, cfg, feat_path, label_path, knn_graph_path):\n",
    "        cut_start=0\n",
    "        cut_end=100\n",
    "\n",
    "        cut_start=0\n",
    "        cut_end=100\n",
    "\n",
    "        feat_path=feat_path\n",
    "        label_path=label_path\n",
    "        knn_graph_path=knn_graph_path\n",
    "\n",
    "        self.k_at_hop = cfg['k_at_hop']\n",
    "        self.depth = len(self.k_at_hop)\n",
    "        self.active_connection = cfg['active_connection']\n",
    "        self.feature_dim = 256\n",
    "        self.is_norm_feat = cfg.get('is_norm_feat', True)\n",
    "        self.is_sort_knns = cfg.get('is_sort_knns', True)\n",
    "        self.is_test = cfg.get('is_test', False)\n",
    "\n",
    "        if label_path is not None:\n",
    "            _, idx2lb = read_meta(label_path)\n",
    "            self.inst_num = len(idx2lb)\n",
    "            self.labels = intdict2ndarray(idx2lb)\n",
    "            self.ignore_label = False\n",
    "        else:\n",
    "            self.labels = None\n",
    "            self.inst_num = -1\n",
    "            self.ignore_label = True\n",
    "\n",
    "        #feature\n",
    "        self.features = read_probs(feat_path, self.inst_num,\n",
    "                                self.feature_dim)#[:cut_end,:]\n",
    "        self.inst_num = self.features.shape[0]\n",
    "\n",
    "        #knn\n",
    "        self.knn_graph = np.load(knn_graph_path)['data']#[:cut_end,:,:]\n",
    "        # _, self.knn_graph = knns2ordered_nbrs(knns, sort=self.is_sort_knns)\n",
    "        # self.knn_graph=self.knn_graph[:cut_end]\n",
    "\n",
    "\n",
    "\n",
    "        #labels\n",
    "        self.labels=self.labels#[:cut_end]\n",
    "\n",
    "        #result\n",
    "        print('inst_num: {},knn_graph shape: {}, feature shape: {}, norm_feat: {}, sort_knns: {} '\n",
    "             'k_at_hop: {}, active_connection: {}'.format(self.inst_num, self.knn_graph.shape, self.features.shape, self.is_norm_feat, self.is_sort_knns,\n",
    "                  self.k_at_hop, self.active_connection))"
   ]
  },
  {
   "cell_type": "code",
   "execution_count": 75,
   "metadata": {},
   "outputs": [
    {
     "output_type": "stream",
     "name": "stdout",
     "text": [
      "[data_t/labels/part0_train_t.meta] #cls: 7, #inst: 500\ninst_num: 500,knn_graph shape: (500, 2, 80), feature shape: (500, 256), norm_feat: True, sort_knns: True k_at_hop: [200, 10], active_connection: 10\n"
     ]
    }
   ],
   "source": [
    "data_result=dataread(cfg.train_data,feat_path,label_path, knn_graph_path)"
   ]
  },
  {
   "cell_type": "code",
   "execution_count": null,
   "metadata": {},
   "outputs": [],
   "source": []
  },
  {
   "cell_type": "code",
   "execution_count": null,
   "metadata": {},
   "outputs": [],
   "source": []
  }
 ]
}