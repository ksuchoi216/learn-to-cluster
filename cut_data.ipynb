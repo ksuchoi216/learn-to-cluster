{
 "metadata": {
  "language_info": {
   "codemirror_mode": {
    "name": "ipython",
    "version": 3
   },
   "file_extension": ".py",
   "mimetype": "text/x-python",
   "name": "python",
   "nbconvert_exporter": "python",
   "pygments_lexer": "ipython3",
   "version": "3.8.5"
  },
  "orig_nbformat": 4,
  "kernelspec": {
   "name": "python3",
   "display_name": "Python 3.8.5 64-bit ('disser': conda)"
  },
  "interpreter": {
   "hash": "de4a326d1af7be3981cb728d2c4eed6e24675e020b4ba825e6ef7b2ba986d345"
  }
 },
 "nbformat": 4,
 "nbformat_minor": 2,
 "cells": [
  {
   "source": [
    "# cutting"
   ],
   "cell_type": "markdown",
   "metadata": {}
  },
  {
   "cell_type": "code",
   "execution_count": 13,
   "metadata": {},
   "outputs": [
    {
     "output_type": "stream",
     "name": "stdout",
     "text": [
      "train inst. 0~2948, test inst. 0~3216\n"
     ]
    }
   ],
   "source": [
    "#choose training and test range of examples\n",
    "# #cls -> #inst\n",
    "# 45 -> tr=2948 tt=3216\n",
    "\n",
    "cls=\"45\" #str\n",
    "instmatch={\"45\":[0,2948,0,3216],} # \"cls\":[tr_st,tr_end,tt_st,tt_end]\n",
    "\n",
    "tr_st, tr_end, tt_st, tt_end = instmatch[cls]\n",
    "print(\"train inst. {}~{}, test inst. {}~{}\".format(tr_st,tr_end,tt_st,tt_end))\n"
   ]
  },
  {
   "cell_type": "code",
   "execution_count": 14,
   "metadata": {},
   "outputs": [],
   "source": [
    "#delete previous cutting data\n",
    "!rm -r '/dcs/pg20/u2085214/fc/learn-to-cluster/data/features/part0_train_cut.bin'\n",
    "!rm -r '/dcs/pg20/u2085214/fc/learn-to-cluster/data/features/part1_test_cut.bin'\n",
    "!rm -r '/dcs/pg20/u2085214/fc/learn-to-cluster/data/knns/part0_train_cut'\n",
    "!rm -r '/dcs/pg20/u2085214/fc/learn-to-cluster/data/knns/part1_test_cut'\n",
    "!rm -r '/dcs/pg20/u2085214/fc/learn-to-cluster/data/labels/part0_train_cut.meta'\n",
    "!rm -r '/dcs/pg20/u2085214/fc/learn-to-cluster/data/labels/part1_test_cut.meta'"
   ]
  },
  {
   "cell_type": "code",
   "execution_count": 15,
   "metadata": {},
   "outputs": [],
   "source": [
    "import torch\n",
    "from utils import (create_logger, set_random_seed, rm_suffix,\n",
    "                   mkdir_if_no_exists)\n",
    "from utils import (read_meta, read_probs, l2norm, knns2ordered_nbrs,\n",
    "                   intdict2ndarray, Timer)\n",
    "from utils import (write_meta, write_feat)\n",
    "from utils.knn import *\n",
    "\n",
    "from mmcv import Config \n",
    "import numpy as np\n"
   ]
  },
  {
   "cell_type": "code",
   "execution_count": 16,
   "metadata": {},
   "outputs": [],
   "source": [
    "config='/dcs/pg20/u2085214/fc/learn-to-cluster/train_cfg_trial_cut.py'\n",
    "cfg = Config.fromfile(config)\n"
   ]
  },
  {
   "cell_type": "code",
   "execution_count": 17,
   "metadata": {},
   "outputs": [],
   "source": [
    "cfg.phase = 'train'\n",
    "cfg.cuda = torch.cuda.is_available()\n",
    "cfg.load_from = None\n",
    "cfg.resume_from = None\n",
    "cfg.gpus = 1\n",
    "cfg.distributed = False\n",
    "cfg.save_output = False\n",
    "cfg.no_cuda = False\n",
    "cfg.force = False\n",
    "cfg.work_dir = './data/'\n",
    "cfg.cut_name = '_cut'\n"
   ]
  },
  {
   "cell_type": "code",
   "execution_count": 18,
   "metadata": {},
   "outputs": [
    {
     "output_type": "stream",
     "name": "stdout",
     "text": [
      "model:\n gae(\n  (base_gcn): GraphConvSparse()\n  (gcn_mean): GraphConvSparse()\n  (gcn_logstddev): GraphConvSparse()\n)\n\nhandler:\n <function train_gae at 0x7f44c3512790>\n"
     ]
    }
   ],
   "source": [
    "from gae.models import build_model\n",
    "from gae import build_handler\n",
    "\n",
    "logger = create_logger()\n",
    "model = build_model(cfg.model['type'], **cfg.model['kwargs'])\n",
    "handler = build_handler(cfg.phase) \n",
    "print('model:\\n',model)\n",
    "print('\\nhandler:\\n',handler)"
   ]
  },
  {
   "cell_type": "code",
   "execution_count": 19,
   "metadata": {},
   "outputs": [
    {
     "output_type": "stream",
     "name": "stdout",
     "text": [
      "./data/labels/part0_train.meta\n./data/features/part0_train.bin\n./data/knns/part0_train/faiss_k_80.npz\n"
     ]
    }
   ],
   "source": [
    "print(cfg.train_data['label_path'])\n",
    "print(cfg.train_data['feat_path'])\n",
    "print(cfg.train_data['knn_graph_path'])"
   ]
  },
  {
   "cell_type": "code",
   "execution_count": 20,
   "metadata": {},
   "outputs": [
    {
     "output_type": "stream",
     "name": "stdout",
     "text": [
      "./data/features/part1_test.bin\n"
     ]
    }
   ],
   "source": [
    "# setattr(cfg.train_data,'test_name',cfg.test_name)\n",
    "print(cfg.test_data['feat_path'])\n",
    "\n"
   ]
  },
  {
   "cell_type": "code",
   "execution_count": 21,
   "metadata": {},
   "outputs": [
    {
     "output_type": "stream",
     "name": "stdout",
     "text": [
      "label_path_cut: ./data/labels/part0_train_cut.meta\nfeat_path_cut: ./data/features/part0_train_cut.bin\nknn_graph_path_cut: ./data/knns/part0_train_cut\n\n\nlabel_path_cut_tt: ./data/labels/part1_test_cut.meta\nfeat_path_cut_tt: ./data/features/part1_test_cut.bin\nknn_graph_path_cut_tt: ./data/knns/part1_test_cut\n"
     ]
    }
   ],
   "source": [
    "for k, v in cfg.model['kwargs'].items(): #kwargs=dict(feature_dim=256)\n",
    "    setattr(cfg.train_data, k, v) #k? v?\n",
    "\n",
    "#test path origin\n",
    "setattr(cfg.train_data,'feat_path_tt',cfg.test_data['feat_path'])\n",
    "setattr(cfg.train_data,'label_path_tt',cfg.test_data['label_path'])\n",
    "setattr(cfg.train_data,'knn_graph_path_tt',cfg.test_data['knn_graph_path'])\n",
    "\n",
    "\n",
    "setattr(cfg.train_data,'tr_st',tr_st)\n",
    "setattr(cfg.train_data,'tr_end', tr_end)\n",
    "setattr(cfg.train_data,'tt_st',tt_st)\n",
    "setattr(cfg.train_data,'tt_end',tt_end)\n",
    "setattr(cfg.train_data,'knn_method',cfg.knn_method)\n",
    "setattr(cfg.train_data,'knn',cfg.knn)\n",
    "setattr(cfg.train_data,'cut_name',cfg.cut_name)\n",
    "setattr(cfg.train_data,'prefix',cfg.prefix)\n",
    "setattr(cfg.train_data,'train_name',cfg.train_name)\n",
    "setattr(cfg.train_data,'test_name',cfg.test_name)\n",
    "\n",
    "#train\n",
    "label_path_cut = cfg.prefix + '/labels/' + cfg.train_name +cfg.cut_name+'.meta'\n",
    "feat_path_cut = cfg.prefix + '/features/' + cfg.train_name +cfg.cut_name+'.bin'\n",
    "knn_graph_path_cut = cfg.prefix +'/knns/' + cfg.train_name + cfg.cut_name\n",
    "# knn_graph_path_cut = cfg.prefix + '/features/' + cfg.train_name + '/'+cfg.knn_method+'_k_'+str(cfg.knn)+cfg.cut_name+'.npz'\n",
    "setattr(cfg.train_data,'label_path_cut',label_path_cut)\n",
    "setattr(cfg.train_data,'feat_path_cut',feat_path_cut)\n",
    "setattr(cfg.train_data,'knn_graph_path_cut',knn_graph_path_cut)\n",
    "\n",
    "print('label_path_cut:',label_path_cut)\n",
    "print('feat_path_cut:',feat_path_cut)\n",
    "print('knn_graph_path_cut:',knn_graph_path_cut)\n",
    "print('\\n')\n",
    "\n",
    "#test\n",
    "label_path_cut_tt = cfg.prefix + '/labels/' + cfg.test_name +cfg.cut_name+'.meta'\n",
    "feat_path_cut_tt = cfg.prefix + '/features/' + cfg.test_name +cfg.cut_name+'.bin'\n",
    "knn_graph_path_cut_tt = cfg.prefix +'/knns/' + cfg.test_name + cfg.cut_name\n",
    "# knn_graph_path_cut = cfg.prefix + '/features/' + cfg.train_name + '/'+cfg.knn_method+'_k_'+str(cfg.knn)+cfg.cut_name+'.npz'\n",
    "setattr(cfg.train_data,'label_path_cut_tt',label_path_cut_tt)\n",
    "setattr(cfg.train_data,'feat_path_cut_tt',feat_path_cut_tt)\n",
    "setattr(cfg.train_data,'knn_graph_path_cut_tt',knn_graph_path_cut_tt)\n",
    "\n",
    "\n",
    "print('label_path_cut_tt:',label_path_cut_tt)\n",
    "print('feat_path_cut_tt:',feat_path_cut_tt)\n",
    "print('knn_graph_path_cut_tt:',knn_graph_path_cut_tt)\n",
    "\n"
   ]
  },
  {
   "cell_type": "code",
   "execution_count": 22,
   "metadata": {},
   "outputs": [],
   "source": [
    "def read_meta(fn_meta, end_pos, start_pos=0, verbose=True):\n",
    "    lb2idxs = {}\n",
    "    idx2lb = {}\n",
    "    if(end_pos==None):\n",
    "        with open(fn_meta) as f:\n",
    "            for idx, x in enumerate(f.readlines()[start_pos:]):\n",
    "                lb = int(x.strip())\n",
    "                if lb not in lb2idxs:\n",
    "                    lb2idxs[lb] = []\n",
    "                lb2idxs[lb] += [idx]\n",
    "                idx2lb[idx] = lb\n",
    "    else:\n",
    "        with open(fn_meta) as f:\n",
    "            for idx, x in enumerate(f.readlines()[start_pos:end_pos]):\n",
    "                lb = int(x.strip())\n",
    "                if lb not in lb2idxs:\n",
    "                    lb2idxs[lb] = []\n",
    "                lb2idxs[lb] += [idx]\n",
    "                idx2lb[idx] = lb\n",
    "\n",
    "    inst_num = len(idx2lb)\n",
    "    cls_num = len(lb2idxs)\n",
    "    if verbose:\n",
    "        print('[{}] #cls: {}, #inst: {}'.format(fn_meta, cls_num, inst_num))\n",
    "    return lb2idxs, idx2lb"
   ]
  },
  {
   "cell_type": "code",
   "execution_count": 23,
   "metadata": {},
   "outputs": [
    {
     "output_type": "stream",
     "name": "stdout",
     "text": [
      "train instance range: 0 ~ 2948\n",
      "test instance range: 0 ~ 3216\n",
      "\n",
      "\n",
      "[./data/labels/part0_train.meta] #cls: 45, #inst: 2948\n",
      "#discard: 0, #lbs: 45\n",
      "#inst: 2948, #class: 45\n",
      "save label to ./data/labels/part0_train_cut.meta\n",
      "shape label train (2948,)\n",
      "[./data/labels/part1_test.meta] #cls: 45, #inst: 3216\n",
      "#discard: 0, #lbs: 45\n",
      "#inst: 3216, #class: 45\n",
      "save label to ./data/labels/part1_test_cut.meta\n",
      "shape label test (3216,)\n",
      "[./data/labels/part0_train.meta] #cls: 8573, #inst: 576494\n",
      "inst_num: 576494\n",
      "[./data/labels/part1_test.meta] #cls: 8573, #inst: 584013\n",
      "inst_num: 576494\n",
      "[Time] read and write meta consumes 1.2275 s\n",
      "\n",
      "\n",
      "shape features org: (576494, 256)\n",
      "save features to ./data/features/part0_train_cut.bin\n",
      "shape features tr: (2948, 256)\n",
      "save features to ./data/features/part1_test_cut.bin\n",
      "shape features tt: (3216, 256)\n",
      "[Time] read and write features consumes 9.6705 s\n",
      "\n",
      "\n",
      "[faiss] save index to ./data/knns/part0_train_cut/faiss_k_80.index\n",
      "[Time] [faiss] build index consumes 0.0489 s\n",
      "[Time] [faiss] query topk 80 consumes 0.2540 s\n",
      "[Time] build index consumes 0.3032 s\n",
      "[Time] dump knns to ./data/knns/part0_train_cut/faiss_k_80.npz consumes 0.3007 s\n",
      "[faiss] save index to ./data/knns/part1_test_cut/faiss_k_80.index\n",
      "[Time] [faiss] build index consumes 0.0461 s\n",
      "[Time] [faiss] query topk 80 consumes 0.2860 s\n",
      "[Time] build index consumes 0.3323 s\n",
      "[Time] dump knns to ./data/knns/part1_test_cut/faiss_k_80.npz consumes 0.3622 s\n",
      "\n",
      "\n",
      "load cutting knn data\n",
      "train path: ./data/knns/part0_train_cut/faiss_k_80.npz\n",
      "test path: ./data/knns/part1_test_cut/faiss_k_80.npz\n",
      "shape knns tr (2948, 2, 80)\n",
      "shape knn_graph tr (2948, 80)\n",
      "shape knns tt (3216, 2, 80)\n",
      "shape knn_graph (3216, 80)\n",
      "[Time] read and write knn graph consumes 1.4471 s\n"
     ]
    }
   ],
   "source": [
    "class Data_Cutting(object):\n",
    "    def __init__(self, cfg):\n",
    "        feat_path = cfg['feat_path']\n",
    "        label_path = cfg.get('label_path', None)\n",
    "        knn_graph_path = cfg['knn_graph_path']\n",
    "        feat_path_tt = cfg['feat_path_tt']\n",
    "        label_path_tt = cfg.get('label_path_tt', None)\n",
    "        knn_graph_path_tt = cfg['knn_graph_path_tt']\n",
    "\n",
    "\n",
    "        feat_path_cut = cfg['feat_path_cut']\n",
    "        label_path_cut = cfg.get('label_path_cut', None)\n",
    "        knn_graph_path_cut = cfg['knn_graph_path_cut']\n",
    "        feat_path_cut_tt = cfg['feat_path_cut_tt']\n",
    "        label_path_cut_tt = cfg.get('label_path_cut_tt', None)\n",
    "        knn_graph_path_cut_tt = cfg['knn_graph_path_cut_tt']\n",
    "\n",
    "        knn_method = cfg['knn_method']\n",
    "        knn = cfg['knn']\n",
    "        cut_name = cfg['cut_name']\n",
    "        prefix = cfg['prefix']\n",
    "        train_name = cfg['train_name']\n",
    "        test_name = cfg['test_name']\n",
    "\n",
    "        tr_st = cfg['tr_st']\n",
    "        tr_end = cfg['tr_end']\n",
    "        tt_st = cfg['tt_st']\n",
    "        tt_end = cfg['tt_end']\n",
    "\n",
    "        self.k_at_hop = cfg['k_at_hop'] #k_at_hop=[100, 10], #200,10\n",
    "        self.depth = len(self.k_at_hop) #e.g. 2 : legth for k_at_hop\n",
    "        self.active_connection = cfg['active_connection']\n",
    "        self.feature_dim = cfg['feature_dim']\n",
    "        self.is_norm_feat = cfg.get('is_norm_feat', True) #normalized\n",
    "        self.is_sort_knns = cfg.get('is_sort_knns', True) #sorted knn\n",
    "        self.is_test = cfg.get('is_test', False) #depends on the train or test\n",
    "        \n",
    "\n",
    "        print('train instance range: {} ~ {}'.format(tr_st,tr_end))\n",
    "        print('test instance range: {} ~ {}'.format(tt_st,tt_end))\n",
    "        \n",
    "        print('\\n')\n",
    "        with Timer('read and write meta'):\n",
    "            if label_path is not None:\n",
    "                _, idx2lb = read_meta(label_path,tr_end, start_pos=tr_st)\n",
    "                self.inst_num = len(idx2lb) #instance num = # of data \n",
    "                self.labels = intdict2ndarray(idx2lb) \n",
    "            write_meta(label_path_cut,idx2lb)\n",
    "            print('shape label train', self.labels.shape)\n",
    "            if label_path is not None:\n",
    "                _, idx2lb = read_meta(label_path_tt,tt_end,start_pos=tt_st)\n",
    "                self.inst_num = len(idx2lb) #instance num = # of data \n",
    "                self.labels = intdict2ndarray(idx2lb) \n",
    "            write_meta(label_path_cut_tt,idx2lb)\n",
    "            print('shape label test', self.labels.shape)\n",
    "\n",
    "            if label_path is not None:\n",
    "                _, idx2lb = read_meta(label_path, end_pos=None)\n",
    "                self.inst_num = len(idx2lb) #instance num = # of data \n",
    "                self.labels = intdict2ndarray(idx2lb)\n",
    "            print('inst_num:',self.inst_num)\n",
    "\n",
    "            if label_path_tt is not None:\n",
    "                _, idx2lb = read_meta(label_path_tt, end_pos=None)\n",
    "                self.inst_num_tt = len(idx2lb) #instance num = # of data \n",
    "                self.labels = intdict2ndarray(idx2lb)\n",
    "            print('inst_num:',self.inst_num)\n",
    "            \n",
    "            \n",
    "        \n",
    "        print('\\n')\n",
    "        with Timer('read and write features'):\n",
    "            self.features = read_probs(feat_path, self.inst_num,self.feature_dim)\n",
    "            print('shape features org:',self.features.shape)\n",
    "            \n",
    "            self.features_tr=self.features[tr_st:tr_end,:] \n",
    "            write_feat(feat_path_cut, self.features)\n",
    "            print('shape features tr:',self.features_tr.shape)\n",
    "\n",
    "\n",
    "            self.features_tt = read_probs(feat_path_tt, self.inst_num_tt,self.feature_dim)[tt_st:tt_end,:]\n",
    "            write_feat(feat_path_cut_tt, self.features_tt)\n",
    "            print('shape features tt:',self.features_tt.shape)\n",
    "\n",
    "        print('\\n')\n",
    "\n",
    "        with Timer('read and write knn graph'):\n",
    "            build_knns(cfg.knn_graph_path_cut,self.features_tr,knn_method,knn)\n",
    "            build_knns(cfg.knn_graph_path_cut_tt,self.features_tt,knn_method,knn)        \n",
    "\n",
    "            #load path\n",
    "            print('\\n\\nload cutting knn data')\n",
    "            knn_graph_path_train = prefix + '/knns/' + train_name+cut_name + '/'+knn_method+'_k_'+str(knn)+'.npz'\n",
    "            knn_graph_path_test = prefix + '/knns/' + test_name+cut_name + '/'+knn_method+'_k_'+str(knn)+'.npz'\n",
    "\n",
    "            print('train path:',knn_graph_path_train)\n",
    "            print('test path:',knn_graph_path_test)\n",
    "\n",
    "            knns = np.load(knn_graph_path_train)['data']\n",
    "            _, self.knn_graph_tr = knns2ordered_nbrs(knns, sort=self.is_sort_knns)\n",
    "            print('shape knns tr',knns.shape)\n",
    "            print('shape knn_graph tr',self.knn_graph_tr.shape)\n",
    "\n",
    "\n",
    "            knns = np.load(knn_graph_path_test)['data']\n",
    "            _, self.knn_graph_tt = knns2ordered_nbrs(knns, sort=self.is_sort_knns)\n",
    "            print('shape knns tt',knns.shape)\n",
    "            print('shape knn_graph',self.knn_graph_tt.shape)\n",
    "\n",
    "data=Data_Cutting(cfg.train_data)\n",
    "features=data.features"
   ]
  },
  {
   "cell_type": "code",
   "execution_count": null,
   "metadata": {},
   "outputs": [],
   "source": []
  }
 ]
}