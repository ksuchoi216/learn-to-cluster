{
 "metadata": {
  "language_info": {
   "codemirror_mode": {
    "name": "ipython",
    "version": 3
   },
   "file_extension": ".py",
   "mimetype": "text/x-python",
   "name": "python",
   "nbconvert_exporter": "python",
   "pygments_lexer": "ipython3",
   "version": "3.8.5"
  },
  "orig_nbformat": 4,
  "kernelspec": {
   "name": "python3",
   "display_name": "Python 3.8.5 64-bit ('disser': conda)"
  },
  "interpreter": {
   "hash": "de4a326d1af7be3981cb728d2c4eed6e24675e020b4ba825e6ef7b2ba986d345"
  }
 },
 "nbformat": 4,
 "nbformat_minor": 2,
 "cells": [
  {
   "source": [
    "# cutting"
   ],
   "cell_type": "markdown",
   "metadata": {}
  },
  {
   "cell_type": "code",
   "execution_count": 1,
   "metadata": {},
   "outputs": [],
   "source": [
    "import torch\n",
    "from utils import (create_logger, set_random_seed, rm_suffix,\n",
    "                   mkdir_if_no_exists)\n",
    "from utils import (read_meta, read_probs, l2norm, knns2ordered_nbrs,\n",
    "                   intdict2ndarray, Timer)\n",
    "from utils import (write_meta, write_feat)\n",
    "from utils.knn import *\n",
    "\n",
    "from mmcv import Config \n",
    "import numpy as np\n",
    "\n",
    "!module purge\n",
    "!module load cuda"
   ]
  },
  {
   "cell_type": "code",
   "execution_count": 2,
   "metadata": {},
   "outputs": [],
   "source": [
    "config='/dcs/pg20/u2085214/fc/learn-to-cluster/train_cfg_trial.py'\n",
    "cfg = Config.fromfile(config)\n"
   ]
  },
  {
   "cell_type": "code",
   "execution_count": 3,
   "metadata": {},
   "outputs": [],
   "source": [
    "cfg.phase = 'train'\n",
    "cfg.cuda = torch.cuda.is_available()\n",
    "cfg.load_from = None\n",
    "cfg.resume_from = None\n",
    "cfg.gpus = 1\n",
    "cfg.distributed = False\n",
    "cfg.save_output = False\n",
    "cfg.no_cuda = False\n",
    "cfg.force = False\n",
    "cfg.work_dir = './data/'\n",
    "cfg.cut_name = '_cut'\n"
   ]
  },
  {
   "cell_type": "code",
   "execution_count": 4,
   "metadata": {},
   "outputs": [
    {
     "output_type": "stream",
     "name": "stdout",
     "text": [
      "model:\n gae(\n  (base_gcn): GraphConvSparse()\n  (gcn_mean): GraphConvSparse()\n  (gcn_logstddev): GraphConvSparse()\n)\n\nhandler:\n <function train_gae at 0x7ff85b3504c0>\n"
     ]
    }
   ],
   "source": [
    "from gae.models import build_model\n",
    "from gae import build_handler\n",
    "\n",
    "logger = create_logger()\n",
    "model = build_model(cfg.model['type'], **cfg.model['kwargs'])\n",
    "handler = build_handler(cfg.phase) \n",
    "print('model:\\n',model)\n",
    "print('\\nhandler:\\n',handler)"
   ]
  },
  {
   "cell_type": "code",
   "execution_count": 5,
   "metadata": {},
   "outputs": [
    {
     "output_type": "stream",
     "name": "stdout",
     "text": [
      "./data/labels/part0_train.meta\n./data/features/part0_train.bin\n./data/knns/part0_train/faiss_k_80.npz\n"
     ]
    }
   ],
   "source": [
    "print(cfg.train_data['label_path'])\n",
    "print(cfg.train_data['feat_path'])\n",
    "print(cfg.train_data['knn_graph_path'])"
   ]
  },
  {
   "cell_type": "code",
   "execution_count": 6,
   "metadata": {},
   "outputs": [
    {
     "output_type": "stream",
     "name": "stdout",
     "text": [
      "label_path_cut: ./data/labels/part0_train_cut.meta\nfeat_path_cut: ./data/features/part0_train_cut.bin\nknn_graph_path_cut: ./data/knns/part0_train_cut\n\n\nlabel_path_cut_tt: ./data/labels/part1_test_cut.meta\nfeat_path_cut_tt: ./data/features/part1_test_cut.bin\nknn_graph_path_cut_tt: ./data/knns/part1_test_cut\n"
     ]
    }
   ],
   "source": [
    "for k, v in cfg.model['kwargs'].items(): #kwargs=dict(feature_dim=256)\n",
    "    setattr(cfg.train_data, k, v) #k? v?\n",
    "\n",
    "setattr(cfg.train_data,'tr_st',0)\n",
    "setattr(cfg.train_data,'tr_end',300)\n",
    "setattr(cfg.train_data,'tt_st',301)\n",
    "setattr(cfg.train_data,'tt_end',601)\n",
    "setattr(cfg.train_data,'knn_method',cfg.knn_method)\n",
    "setattr(cfg.train_data,'knn',cfg.knn)\n",
    "setattr(cfg.train_data,'cut_name',cfg.cut_name)\n",
    "setattr(cfg.train_data,'prefix',cfg.prefix)\n",
    "setattr(cfg.train_data,'train_name',cfg.train_name)\n",
    "setattr(cfg.train_data,'test_name',cfg.test_name)\n",
    "\n",
    "#train\n",
    "label_path_cut = cfg.prefix + '/labels/' + cfg.train_name +cfg.cut_name+'.meta'\n",
    "feat_path_cut = cfg.prefix + '/features/' + cfg.train_name +cfg.cut_name+'.bin'\n",
    "knn_graph_path_cut = cfg.prefix +'/knns/' + cfg.train_name + cfg.cut_name\n",
    "# knn_graph_path_cut = cfg.prefix + '/features/' + cfg.train_name + '/'+cfg.knn_method+'_k_'+str(cfg.knn)+cfg.cut_name+'.npz'\n",
    "setattr(cfg.train_data,'label_path_cut',label_path_cut)\n",
    "setattr(cfg.train_data,'feat_path_cut',feat_path_cut)\n",
    "setattr(cfg.train_data,'knn_graph_path_cut',knn_graph_path_cut)\n",
    "\n",
    "print('label_path_cut:',label_path_cut)\n",
    "print('feat_path_cut:',feat_path_cut)\n",
    "print('knn_graph_path_cut:',knn_graph_path_cut)\n",
    "print('\\n')\n",
    "\n",
    "#test\n",
    "label_path_cut_tt = cfg.prefix + '/labels/' + cfg.test_name +cfg.cut_name+'.meta'\n",
    "feat_path_cut_tt = cfg.prefix + '/features/' + cfg.test_name +cfg.cut_name+'.bin'\n",
    "knn_graph_path_cut_tt = cfg.prefix +'/knns/' + cfg.test_name + cfg.cut_name\n",
    "# knn_graph_path_cut = cfg.prefix + '/features/' + cfg.train_name + '/'+cfg.knn_method+'_k_'+str(cfg.knn)+cfg.cut_name+'.npz'\n",
    "setattr(cfg.train_data,'label_path_cut_tt',label_path_cut_tt)\n",
    "setattr(cfg.train_data,'feat_path_cut_tt',feat_path_cut_tt)\n",
    "setattr(cfg.train_data,'knn_graph_path_cut_tt',knn_graph_path_cut_tt)\n",
    "\n",
    "\n",
    "print('label_path_cut_tt:',label_path_cut_tt)\n",
    "print('feat_path_cut_tt:',feat_path_cut_tt)\n",
    "print('knn_graph_path_cut_tt:',knn_graph_path_cut_tt)\n",
    "\n"
   ]
  },
  {
   "cell_type": "code",
   "execution_count": 7,
   "metadata": {},
   "outputs": [],
   "source": [
    "def read_meta(fn_meta, end_pos, start_pos=0, verbose=True):\n",
    "    lb2idxs = {}\n",
    "    idx2lb = {}\n",
    "    if(end_pos==None):\n",
    "        with open(fn_meta) as f:\n",
    "            for idx, x in enumerate(f.readlines()[start_pos:]):\n",
    "                lb = int(x.strip())\n",
    "                if lb not in lb2idxs:\n",
    "                    lb2idxs[lb] = []\n",
    "                lb2idxs[lb] += [idx]\n",
    "                idx2lb[idx] = lb\n",
    "    else:\n",
    "        with open(fn_meta) as f:\n",
    "            for idx, x in enumerate(f.readlines()[start_pos:end_pos]):\n",
    "                lb = int(x.strip())\n",
    "                if lb not in lb2idxs:\n",
    "                    lb2idxs[lb] = []\n",
    "                lb2idxs[lb] += [idx]\n",
    "                idx2lb[idx] = lb\n",
    "\n",
    "    inst_num = len(idx2lb)\n",
    "    cls_num = len(lb2idxs)\n",
    "    if verbose:\n",
    "        print('[{}] #cls: {}, #inst: {}'.format(fn_meta, cls_num, inst_num))\n",
    "    return lb2idxs, idx2lb"
   ]
  },
  {
   "cell_type": "code",
   "execution_count": 8,
   "metadata": {},
   "outputs": [
    {
     "output_type": "stream",
     "name": "stdout",
     "text": [
      "\n",
      "\n",
      "[./data/labels/part0_train.meta] #cls: 4, #inst: 300\n",
      "#discard: 0, #lbs: 4\n",
      "#inst: 300, #class: 4\n",
      "save label to ./data/labels/part0_train_cut.meta\n",
      "shape label train (300,)\n",
      "[./data/labels/part0_train.meta] #cls: 5, #inst: 300\n",
      "#discard: 0, #lbs: 5\n",
      "#inst: 300, #class: 5\n",
      "save label to ./data/labels/part1_test_cut.meta\n",
      "shape label test (300,)\n",
      "[./data/labels/part0_train.meta] #cls: 8573, #inst: 576494\n",
      "inst_num: 576494\n",
      "[Time] read and write meta consumes 0.8174 s\n",
      "\n",
      "\n",
      "shape features org: (576494, 256)\n",
      "save features to ./data/features/part0_train_cut.bin\n",
      "shape features tr: (300, 256)\n",
      "save features to ./data/features/part1_test_cut.bin\n",
      "shape features tt: (300, 256)\n",
      "[Time] read and write features consumes 7.6988 s\n",
      "\n",
      "\n",
      "read knn from ./data/knns/part0_train_cut/faiss_k_80.npz\n",
      "read knn from ./data/knns/part1_test_cut/faiss_k_80.npz\n",
      "train path: ./data/knns/part0_train_cut/faiss_k_80.npz\n",
      "test path: ./data/knns/part1_test_cut/faiss_k_80.npz\n",
      "shape knns tr (300, 2, 80)\n",
      "shape knn_graph tr (300, 80)\n",
      "shape knns tt (300, 2, 80)\n",
      "shape knn_graph (300, 80)\n",
      "[Time] read and write knn graph consumes 0.0343 s\n"
     ]
    }
   ],
   "source": [
    "class Data_Cutting(object):\n",
    "    def __init__(self, cfg):\n",
    "        feat_path = cfg['feat_path']\n",
    "        label_path = cfg.get('label_path', None)\n",
    "        knn_graph_path = cfg['knn_graph_path']\n",
    "        feat_path_cut = cfg['feat_path_cut']\n",
    "        label_path_cut = cfg.get('label_path_cut', None)\n",
    "        knn_graph_path_cut = cfg['knn_graph_path_cut']\n",
    "        feat_path_cut_tt = cfg['feat_path_cut_tt']\n",
    "        label_path_cut_tt = cfg.get('label_path_cut_tt', None)\n",
    "        knn_graph_path_cut_tt = cfg['knn_graph_path_cut_tt']\n",
    "\n",
    "        knn_method = cfg['knn_method']\n",
    "        knn = cfg['knn']\n",
    "        cut_name = cfg['cut_name']\n",
    "        prefix = cfg['prefix']\n",
    "        train_name = cfg['train_name']\n",
    "        test_name = cfg['test_name']\n",
    "\n",
    "        tr_st = cfg['tr_st']\n",
    "        tr_end = cfg['tr_end']\n",
    "        tt_st = cfg['tt_st']\n",
    "        tt_end = cfg['tt_end']\n",
    "\n",
    "        self.k_at_hop = cfg['k_at_hop'] #k_at_hop=[100, 10], #200,10\n",
    "        self.depth = len(self.k_at_hop) #e.g. 2 : legth for k_at_hop\n",
    "        self.active_connection = cfg['active_connection']\n",
    "        self.feature_dim = cfg['feature_dim']\n",
    "        self.is_norm_feat = cfg.get('is_norm_feat', True) #normalized\n",
    "        self.is_sort_knns = cfg.get('is_sort_knns', True) #sorted knn\n",
    "        self.is_test = cfg.get('is_test', False) #depends on the train or test\n",
    "        \n",
    "        print('\\n')\n",
    "        with Timer('read and write meta'):\n",
    "            if label_path is not None:\n",
    "                _, idx2lb = read_meta(label_path,tr_end, start_pos=tr_st)\n",
    "                self.inst_num = len(idx2lb) #instance num = # of data \n",
    "                self.labels = intdict2ndarray(idx2lb) \n",
    "            write_meta(label_path_cut,idx2lb)\n",
    "            print('shape label train', self.labels.shape)\n",
    "            if label_path is not None:\n",
    "                _, idx2lb = read_meta(label_path,tt_end,start_pos=tt_st)\n",
    "                self.inst_num = len(idx2lb) #instance num = # of data \n",
    "                self.labels = intdict2ndarray(idx2lb) \n",
    "            write_meta(label_path_cut_tt,idx2lb)\n",
    "            print('shape label test', self.labels.shape)\n",
    "\n",
    "            if label_path is not None:\n",
    "                _, idx2lb = read_meta(label_path,end_pos=None)\n",
    "                self.inst_num = len(idx2lb) #instance num = # of data \n",
    "                self.labels = intdict2ndarray(idx2lb)\n",
    "            print('inst_num:',self.inst_num)\n",
    "            \n",
    "        \n",
    "        print('\\n')\n",
    "        with Timer('read and write features'):\n",
    "            self.features = read_probs(feat_path, self.inst_num,self.feature_dim)\n",
    "            print('shape features org:',self.features.shape)\n",
    "            self.features_tr=self.features[tr_st:tr_end,:] \n",
    "            write_feat(feat_path_cut, self.features)\n",
    "            print('shape features tr:',self.features_tr.shape)\n",
    "            self.features_tt=self.features[tt_st:tt_end,:]\n",
    "            write_feat(feat_path_cut_tt, self.features_tt)\n",
    "            print('shape features tt:',self.features_tt.shape)\n",
    "\n",
    "        print('\\n')\n",
    "        with Timer('read and write knn graph'):\n",
    "            build_knns(cfg.knn_graph_path_cut,self.features_tr,knn_method,knn)\n",
    "            build_knns(cfg.knn_graph_path_cut_tt,self.features_tt,knn_method,knn)\n",
    "\n",
    "            knn_graph_path_train = prefix + '/knns/' + train_name+cut_name + '/'+knn_method+'_k_'+str(knn)+'.npz'\n",
    "            knn_graph_path_test = prefix + '/knns/' + test_name+cut_name + '/'+knn_method+'_k_'+str(knn)+'.npz'\n",
    "            print('train path:',knn_graph_path_train)\n",
    "            print('test path:',knn_graph_path_test)\n",
    "\n",
    "            knns = np.load(knn_graph_path_train)['data']\n",
    "            _, self.knn_graph_tr = knns2ordered_nbrs(knns, sort=self.is_sort_knns)\n",
    "            print('shape knns tr',knns.shape)\n",
    "            print('shape knn_graph tr',self.knn_graph_tr.shape)\n",
    "\n",
    "\n",
    "            knns = np.load(knn_graph_path_test)['data']\n",
    "            _, self.knn_graph_tt = knns2ordered_nbrs(knns, sort=self.is_sort_knns)\n",
    "            print('shape knns tt',knns.shape)\n",
    "            print('shape knn_graph',self.knn_graph_tt.shape)\n",
    "\n",
    "        \n",
    "\n",
    "\n",
    "\n",
    "data=Data_Cutting(cfg.train_data)\n",
    "features=data.features"
   ]
  },
  {
   "cell_type": "code",
   "execution_count": 9,
   "metadata": {},
   "outputs": [
    {
     "output_type": "stream",
     "name": "stdout",
     "text": [
      "./data/knns/part0_train_cut/faiss_k_80.npz\n./data/knns/part1_test_cut/faiss_k_80.npz\nshape knn_graph (300, 80)\n[[280  64   0 ... 289 209 228]\n [  1  97  65 ...  71  74 103]\n [218 234  98 ... 158  86 109]\n ...\n [113   1 297 ... 151 271 119]\n [186 226 298 ... 141 145 101]\n [299 195 203 ...  69  79 285]]\nshape knn_graph (300, 80)\n[[  0   7  17 ...  85 190 144]\n [  1   2   7 ...  31  88  68]\n [  2  12   1 ... 294  24 265]\n ...\n [297 292 287 ... 150 154 179]\n [298 295 291 ...  59  80  12]\n [299 295 286 ...  31  24 174]]\n"
     ]
    }
   ],
   "source": [
    "knn_graph_path_train = cfg.prefix + '/knns/' + cfg.train_name +cfg.cut_name+ '/'+cfg.knn_method+'_k_'+str(cfg.knn)+'.npz'\n",
    "knn_graph_path_test = cfg.prefix + '/knns/' + cfg.test_name +cfg.cut_name+ '/'+cfg.knn_method+'_k_'+str(cfg.knn)+'.npz'\n",
    "print(knn_graph_path_train)\n",
    "print(knn_graph_path_test)\n",
    "\n",
    "knns = np.load(knn_graph_path_train)['data']\n",
    "_, knn_graph_tr = knns2ordered_nbrs(knns, sort=True)\n",
    "print('shape knn_graph',knn_graph_tr.shape)\n",
    "print(knn_graph_tr)\n",
    "\n",
    "\n",
    "knns = np.load(knn_graph_path_test)['data']\n",
    "_, knn_graph_tt = knns2ordered_nbrs(knns, sort=True)\n",
    "print('shape knn_graph',knn_graph_tt.shape)\n",
    "print(knn_graph_tt)"
   ]
  },
  {
   "cell_type": "code",
   "execution_count": null,
   "metadata": {},
   "outputs": [],
   "source": []
  }
 ]
}