{
 "metadata": {
  "language_info": {
   "codemirror_mode": {
    "name": "ipython",
    "version": 3
   },
   "file_extension": ".py",
   "mimetype": "text/x-python",
   "name": "python",
   "nbconvert_exporter": "python",
   "pygments_lexer": "ipython3",
   "version": "3.8.5"
  },
  "orig_nbformat": 4,
  "kernelspec": {
   "name": "python3",
   "display_name": "Python 3.8.5 64-bit ('disser': conda)"
  },
  "interpreter": {
   "hash": "de4a326d1af7be3981cb728d2c4eed6e24675e020b4ba825e6ef7b2ba986d345"
  }
 },
 "nbformat": 4,
 "nbformat_minor": 2,
 "cells": [
  {
   "cell_type": "code",
   "execution_count": 1,
   "metadata": {},
   "outputs": [],
   "source": [
    "import torch\n",
    "import numpy as np"
   ]
  },
  {
   "cell_type": "code",
   "execution_count": 23,
   "metadata": {},
   "outputs": [
    {
     "output_type": "stream",
     "name": "stdout",
     "text": [
      "X mat\ntensor([[[0, 1],\n         [0, 1],\n         [0, 2]],\n\n        [[0, 0],\n         [2, 0],\n         [2, 2]]])\n\n\nA mat\ntensor([[[0, 2],\n         [2, 2],\n         [2, 0]],\n\n        [[2, 1],\n         [0, 1],\n         [2, 0]]])\n"
     ]
    }
   ],
   "source": [
    "size=tuple([2,3,2])\n",
    "X=torch.randint(3,size=size)\n",
    "A=torch.randint(3,size=size)\n",
    "print(\"X mat\")\n",
    "print(X)\n",
    "print(\"\\n\\nA mat\")\n",
    "print(A)"
   ]
  },
  {
   "cell_type": "code",
   "execution_count": 24,
   "metadata": {},
   "outputs": [
    {
     "output_type": "stream",
     "name": "stdout",
     "text": [
      "tensor([[[0, 2, 2],\n         [2, 2, 0]],\n\n        [[2, 0, 2],\n         [1, 1, 0]]])\ntensor([[[2, 2, 0],\n         [2, 2, 0],\n         [4, 4, 0]],\n\n        [[0, 0, 0],\n         [4, 0, 4],\n         [6, 2, 4]]])\n"
     ]
    }
   ],
   "source": [
    "# out=torch.einsum('bnd,df->bnf',(X, A))\n",
    "At=torch.transpose(A,1,2)\n",
    "print(At)\n",
    "out = torch.matmul(X,At)\n",
    "print(out)"
   ]
  },
  {
   "cell_type": "code",
   "execution_count": null,
   "metadata": {},
   "outputs": [],
   "source": []
  }
 ]
}