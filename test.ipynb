{
 "metadata": {
  "language_info": {
   "codemirror_mode": {
    "name": "ipython",
    "version": 3
   },
   "file_extension": ".py",
   "mimetype": "text/x-python",
   "name": "python",
   "nbconvert_exporter": "python",
   "pygments_lexer": "ipython3",
   "version": "3.8.5"
  },
  "orig_nbformat": 4,
  "kernelspec": {
   "name": "python3",
   "display_name": "Python 3.8.5 64-bit ('disser': conda)"
  },
  "interpreter": {
   "hash": "de4a326d1af7be3981cb728d2c4eed6e24675e020b4ba825e6ef7b2ba986d345"
  }
 },
 "nbformat": 4,
 "nbformat_minor": 2,
 "cells": [
  {
   "cell_type": "code",
   "execution_count": 1,
   "metadata": {},
   "outputs": [],
   "source": [
    "import torch\n",
    "import numpy as np"
   ]
  },
  {
   "cell_type": "code",
   "execution_count": 23,
   "metadata": {},
   "outputs": [
    {
     "output_type": "stream",
     "name": "stdout",
     "text": [
      "X mat\ntensor([[[0, 1],\n         [0, 1],\n         [0, 2]],\n\n        [[0, 0],\n         [2, 0],\n         [2, 2]]])\n\n\nA mat\ntensor([[[0, 2],\n         [2, 2],\n         [2, 0]],\n\n        [[2, 1],\n         [0, 1],\n         [2, 0]]])\n"
     ]
    }
   ],
   "source": [
    "size=tuple([2,3,2])\n",
    "X=torch.randint(3,size=size)\n",
    "A=torch.randint(3,size=size)\n",
    "print(\"X mat\")\n",
    "print(X)\n",
    "print(\"\\n\\nA mat\")\n",
    "print(A)"
   ]
  },
  {
   "cell_type": "code",
   "execution_count": 24,
   "metadata": {},
   "outputs": [
    {
     "output_type": "stream",
     "name": "stdout",
     "text": [
      "tensor([[[0, 2, 2],\n         [2, 2, 0]],\n\n        [[2, 0, 2],\n         [1, 1, 0]]])\ntensor([[[2, 2, 0],\n         [2, 2, 0],\n         [4, 4, 0]],\n\n        [[0, 0, 0],\n         [4, 0, 4],\n         [6, 2, 4]]])\n"
     ]
    }
   ],
   "source": [
    "# out=torch.einsum('bnd,df->bnf',(X, A))\n",
    "At=torch.transpose(A,1,2)\n",
    "print(At)\n",
    "out = torch.matmul(X,At)\n",
    "print(out)"
   ]
  },
  {
   "cell_type": "code",
   "execution_count": 10,
   "metadata": {},
   "outputs": [
    {
     "output_type": "stream",
     "name": "stdout",
     "text": [
      "mac=0.16666666666666666 mic=0.3333333333333333 non=[0.5 0.  0. ]\n",
      "/dcs/pg20/u2085214/.conda/envs/disser/lib/python3.8/site-packages/sklearn/metrics/_classification.py:1221: UndefinedMetricWarning: Precision is ill-defined and being set to 0.0 in labels with no predicted samples. Use `zero_division` parameter to control this behavior.\n",
      "  _warn_prf(average, modifier, msg_start, len(result))\n"
     ]
    }
   ],
   "source": [
    "from sklearn.metrics import precision_score, f1_score, classification_report\n",
    "\n",
    "y_true = [0, 1, 2, 0, 1, 2] # 3-class problem\n",
    "y_pred = [0, 0, 1, 0, 0, 1] # we never predict '2'\n",
    "\n",
    "mac=precision_score(y_true, y_pred, average='macro')\n",
    "mic=precision_score(y_true, y_pred, average='micro') # no warning\n",
    "non=precision_score(y_true, y_pred, average=None) \n",
    "\n",
    "print('mac={} mic={} non={}'.format(mac,mic,non))"
   ]
  },
  {
   "cell_type": "code",
   "execution_count": null,
   "metadata": {},
   "outputs": [],
   "source": [
    "'''\n",
    "precision_score(y_true, y_pred, average='macro') \n",
    "[...] UndefinedMetricWarning: Precision is ill-defined and being set to 0.0 in labels with no predicted samples. \n",
    "  'precision', 'predicted', average, warn_for)\n",
    "0.16666666666666666\n",
    "\n",
    "precision_score(y_true, y_pred, average='micro') # no warning\n",
    "0.3333333333333333\n",
    "\n",
    "precision_score(y_true, y_pred, average=None) \n",
    "[...] UndefinedMetricWarning: Precision is ill-defined and being set to 0.0 in labels with no predicted samples. \n",
    "  'precision', 'predicted', average, warn_for)\n",
    "array([0.5, 0. , 0. ])\n",
    "'''"
   ]
  }
 ]
}