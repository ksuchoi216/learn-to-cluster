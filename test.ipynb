{
 "metadata": {
  "language_info": {
   "codemirror_mode": {
    "name": "ipython",
    "version": 3
   },
   "file_extension": ".py",
   "mimetype": "text/x-python",
   "name": "python",
   "nbconvert_exporter": "python",
   "pygments_lexer": "ipython3",
   "version": "3.8.5"
  },
  "orig_nbformat": 4,
  "kernelspec": {
   "name": "python3",
   "display_name": "Python 3.8.5 64-bit ('disser': conda)"
  },
  "interpreter": {
   "hash": "de4a326d1af7be3981cb728d2c4eed6e24675e020b4ba825e6ef7b2ba986d345"
  }
 },
 "nbformat": 4,
 "nbformat_minor": 2,
 "cells": [
  {
   "cell_type": "code",
   "execution_count": 2,
   "metadata": {},
   "outputs": [],
   "source": [
    "import torch\n",
    "import numpy as np"
   ]
  },
  {
   "cell_type": "code",
   "execution_count": 23,
   "metadata": {},
   "outputs": [
    {
     "output_type": "stream",
     "name": "stdout",
     "text": [
      "X mat\ntensor([[[0, 1],\n         [0, 1],\n         [0, 2]],\n\n        [[0, 0],\n         [2, 0],\n         [2, 2]]])\n\n\nA mat\ntensor([[[0, 2],\n         [2, 2],\n         [2, 0]],\n\n        [[2, 1],\n         [0, 1],\n         [2, 0]]])\n"
     ]
    }
   ],
   "source": [
    "size=tuple([2,3,2])\n",
    "X=torch.randint(3,size=size)\n",
    "A=torch.randint(3,size=size)\n",
    "print(\"X mat\")\n",
    "print(X)\n",
    "print(\"\\n\\nA mat\")\n",
    "print(A)"
   ]
  },
  {
   "cell_type": "code",
   "execution_count": 24,
   "metadata": {},
   "outputs": [
    {
     "output_type": "stream",
     "name": "stdout",
     "text": [
      "tensor([[[0, 2, 2],\n         [2, 2, 0]],\n\n        [[2, 0, 2],\n         [1, 1, 0]]])\ntensor([[[2, 2, 0],\n         [2, 2, 0],\n         [4, 4, 0]],\n\n        [[0, 0, 0],\n         [4, 0, 4],\n         [6, 2, 4]]])\n"
     ]
    }
   ],
   "source": [
    "# out=torch.einsum('bnd,df->bnf',(X, A))\n",
    "At=torch.transpose(A,1,2)\n",
    "print(At)\n",
    "out = torch.matmul(X,At)\n",
    "print(out)"
   ]
  },
  {
   "cell_type": "code",
   "execution_count": 10,
   "metadata": {},
   "outputs": [
    {
     "output_type": "stream",
     "name": "stdout",
     "text": [
      "mac=0.16666666666666666 mic=0.3333333333333333 non=[0.5 0.  0. ]\n",
      "/dcs/pg20/u2085214/.conda/envs/disser/lib/python3.8/site-packages/sklearn/metrics/_classification.py:1221: UndefinedMetricWarning: Precision is ill-defined and being set to 0.0 in labels with no predicted samples. Use `zero_division` parameter to control this behavior.\n",
      "  _warn_prf(average, modifier, msg_start, len(result))\n"
     ]
    }
   ],
   "source": [
    "from sklearn.metrics import precision_score, f1_score, classification_report\n",
    "\n",
    "y_true = [0, 1, 2, 0, 1, 2] # 3-class problem\n",
    "y_pred = [0, 0, 1, 0, 0, 1] # we never predict '2'\n",
    "\n",
    "mac=precision_score(y_true, y_pred, average='macro')\n",
    "mic=precision_score(y_true, y_pred, average='micro') # no warning\n",
    "non=precision_score(y_true, y_pred, average=None) \n",
    "\n",
    "print('mac={} mic={} non={}'.format(mac,mic,non))"
   ]
  },
  {
   "cell_type": "code",
   "execution_count": 4,
   "metadata": {},
   "outputs": [
    {
     "output_type": "error",
     "ename": "TypeError",
     "evalue": "randint(): argument 'size' must be tuple of ints, but found element of type list at pos 2",
     "traceback": [
      "\u001b[0;31m---------------------------------------------------------------------------\u001b[0m",
      "\u001b[0;31mTypeError\u001b[0m                                 Traceback (most recent call last)",
      "\u001b[0;32m<ipython-input-4-d209f7c60bcb>\u001b[0m in \u001b[0;36m<module>\u001b[0;34m\u001b[0m\n\u001b[0;32m----> 1\u001b[0;31m \u001b[0mX\u001b[0m\u001b[0;34m=\u001b[0m\u001b[0mtorch\u001b[0m\u001b[0;34m.\u001b[0m\u001b[0mrandint\u001b[0m\u001b[0;34m(\u001b[0m\u001b[0;36m3\u001b[0m\u001b[0;34m,\u001b[0m\u001b[0msize\u001b[0m\u001b[0;34m=\u001b[0m\u001b[0;34m(\u001b[0m\u001b[0;36m3\u001b[0m\u001b[0;34m,\u001b[0m\u001b[0;34m[\u001b[0m\u001b[0;36m1\u001b[0m\u001b[0;34m,\u001b[0m\u001b[0;36m2\u001b[0m\u001b[0;34m]\u001b[0m\u001b[0;34m)\u001b[0m\u001b[0;34m)\u001b[0m\u001b[0;34m\u001b[0m\u001b[0;34m\u001b[0m\u001b[0m\n\u001b[0m\u001b[1;32m      2\u001b[0m \u001b[0mA\u001b[0m\u001b[0;34m=\u001b[0m\u001b[0mtorch\u001b[0m\u001b[0;34m.\u001b[0m\u001b[0mrandint\u001b[0m\u001b[0;34m(\u001b[0m\u001b[0;36m3\u001b[0m\u001b[0;34m,\u001b[0m\u001b[0msize\u001b[0m\u001b[0;34m=\u001b[0m\u001b[0;34m(\u001b[0m\u001b[0;36m3\u001b[0m\u001b[0;34m,\u001b[0m\u001b[0;36m1\u001b[0m\u001b[0;34m)\u001b[0m\u001b[0;34m)\u001b[0m\u001b[0;34m\u001b[0m\u001b[0;34m\u001b[0m\u001b[0m\n\u001b[1;32m      3\u001b[0m \u001b[0mprint\u001b[0m\u001b[0;34m(\u001b[0m\u001b[0mX\u001b[0m\u001b[0;34m)\u001b[0m\u001b[0;34m\u001b[0m\u001b[0;34m\u001b[0m\u001b[0m\n\u001b[1;32m      4\u001b[0m \u001b[0mprint\u001b[0m\u001b[0;34m(\u001b[0m\u001b[0mA\u001b[0m\u001b[0;34m)\u001b[0m\u001b[0;34m\u001b[0m\u001b[0;34m\u001b[0m\u001b[0m\n",
      "\u001b[0;31mTypeError\u001b[0m: randint(): argument 'size' must be tuple of ints, but found element of type list at pos 2"
     ]
    }
   ],
   "source": [
    "X=torch.tensor([0.22,-0.22],[0.33,-0.33],[0.8,-0,3])\n",
    "A=torch.ones(size=(3,1))\n",
    "print(X)\n",
    "print(A)"
   ]
  },
  {
   "cell_type": "code",
   "execution_count": null,
   "metadata": {},
   "outputs": [],
   "source": []
  }
 ]
}